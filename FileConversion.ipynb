{
 "cells": [
  {
   "cell_type": "markdown",
   "metadata": {},
   "source": [
    "## Test by Jose-Francisco Zubizarreta\n",
    "### Text document into formatted csv based on metadata"
   ]
  },
  {
   "cell_type": "code",
   "execution_count": 3,
   "metadata": {
    "collapsed": true
   },
   "outputs": [],
   "source": [
    "#Import the relevant libraries\n",
    "import pandas as pd\n",
    "import numpy as np\n",
    "import datetime\n",
    "import itertools"
   ]
  },
  {
   "cell_type": "code",
   "execution_count": null,
   "metadata": {
    "collapsed": false
   },
   "outputs": [],
   "source": [
    "\n"
   ]
  },
  {
   "cell_type": "code",
   "execution_count": 4,
   "metadata": {
    "collapsed": true
   },
   "outputs": [],
   "source": [
    "def file_len(fname):\n",
    "    with open(fname) as f:\n",
    "        for i, l in enumerate(f):\n",
    "            pass\n",
    "    return i + 1"
   ]
  },
  {
   "cell_type": "code",
   "execution_count": 5,
   "metadata": {
    "collapsed": false
   },
   "outputs": [],
   "source": [
    "def get_blocks_to_read(txt_path):\n",
    "    total_rows = file_len(txt_path)#%100000\n",
    "    with open(txt_path, 'r') as f:\n",
    "        bytes_per_row = len(f.readline()) #assuming same row size accross the file and 4 bytes per row\n",
    "    file_size_approx = total_rows*bytes_per_row # 138 bytes for SampleFile.txt, very accurate wrt to real size of file\n",
    "    blocks_to_read = (file_size_approx/100000000)+1 # Divide file size in bytes by 100 MBytes, data to load each time\n",
    "    rows_to_read   = 100000000/bytes_per_row\n",
    "    return blocks_to_read, rows_to_read"
   ]
  },
  {
   "cell_type": "code",
   "execution_count": 6,
   "metadata": {
    "collapsed": true
   },
   "outputs": [],
   "source": [
    "def pre_process_part(part, particles, idx):\n",
    "\n",
    "    if  particles.loc[idx,'datatype']=='date': #If substring has 'date' data type extract the date component\n",
    "        #try:\n",
    "        part2= datetime.datetime.strptime(part, '%Y-%m-%d')    \n",
    "        part = datetime.date.strftime(part2, \"%d/%m/%y\")\n",
    "    else:\n",
    "        part = part.strip() #removes leading and trailing spaces to only have relevant txt in csv file\n",
    "    if particles.loc[idx,'datatype']=='string':\n",
    "        part = '\"' + part + '\"'\n",
    "    return part\n"
   ]
  },
  {
   "cell_type": "code",
   "execution_count": 7,
   "metadata": {
    "collapsed": false
   },
   "outputs": [
    {
     "name": "stdout",
     "output_type": "stream",
     "text": [
      "2173913\n"
     ]
    }
   ],
   "source": [
    "blocks, rows_to_read = get_blocks_to_read(txt_path)\n",
    "print rows_to_read"
   ]
  },
  {
   "cell_type": "code",
   "execution_count": 8,
   "metadata": {
    "collapsed": false
   },
   "outputs": [],
   "source": [
    "def format_row_to_append(particles, line):\n",
    "    \n",
    "    #Use sub indexes to break the text lines into different particles (one per each data varible and data type)   \n",
    "                \n",
    "    sub_idx = 0\n",
    "    row_to_append = []\n",
    "    for idx in range(0,len(particles)):          \n",
    "        current_length = particles.loc[idx,'length'] #Get length of the substring to get\n",
    "\n",
    "        sub_end = sub_idx + current_length\n",
    "        part = line[sub_idx:sub_end]                   \n",
    "\n",
    "        part = pre_process_part(part, particles,idx)\n",
    "\n",
    "        row_to_append.append(part) # append data to new row\n",
    "        sub_idx = sub_end\n",
    "        \n",
    "    return row_to_append"
   ]
  },
  {
   "cell_type": "code",
   "execution_count": 10,
   "metadata": {
    "collapsed": false
   },
   "outputs": [],
   "source": [
    "#Main function\n",
    "\n",
    "def transform_file(txt_path, particles):\n",
    "\n",
    "    blocks_to_read, rows_to_read = get_blocks_to_read(txt_path)\n",
    "\n",
    "    rows_to_read = 3 #rows_to_read\n",
    "    with open (txt_path, \"r\") as myfile:\n",
    "        for block_idx in range(blocks_to_read):\n",
    "\n",
    "            #data = myfile.readlines() #Open text file \n",
    "            #for line_idx, line in enumerate(data): # read line by line\n",
    "            line_idx = 0\n",
    "            for line in itertools.islice(myfile, 0, rows_to_read):\n",
    "                #print line\n",
    "\n",
    "                if line_idx == 0:\n",
    "                    transformed =  pd.DataFrame(columns = particles.loc[:,'var_name'].values)\n",
    "\n",
    "                row_to_append = format_row_to_append(particles, line)\n",
    "                \n",
    "                #transformed.append(row_to_append)\n",
    "                transformed.loc[line_idx,:]=row_to_append #add new row\n",
    "                line_idx += 1\n",
    "\n",
    "            print transformed.sort_index()\n",
    "            block_idx += 1\n",
    "            #Save transformed data into csv format\n",
    "            transformed.to_csv('/media/zubizarreta/Dt2/Data/TextProcessing/Octo/New_data.csv', index = False)\n"
   ]
  },
  {
   "cell_type": "code",
   "execution_count": 11,
   "metadata": {
    "collapsed": false
   },
   "outputs": [
    {
     "name": "stdout",
     "output_type": "stream",
     "text": [
      "  Birth date First name Last name Weight\n",
      "0   01/01/70     \"John\"   \"Smith\"   81.5\n",
      "1   31/01/75     \"Jane\"     \"Doe\"   61.1\n",
      "2   28/11/88      \"Bob\"     \"Big\"  102.4\n"
     ]
    }
   ],
   "source": [
    "Main codeFil\n",
    "\n",
    "txt_path      = '/media/zubizarreta/Dt2/Data/TextProcessing/Octo/SampleFile.txt'\n",
    "\n",
    "if txt_path.endswith('.txt'):\n",
    "\n",
    "    metadata_path = '/media/zubizarreta/Dt2/Data/TextProcessing/Octo/Metadata.txt'\n",
    "\n",
    "    #By particles I refer to a dataframe loaded with the metadata\n",
    "    particles = pd.read_csv(metadata_path, names = ['var_name','length','datatype'])\n",
    "    \n",
    "    transform_file(txt_path, particles)\n",
    "else: \n",
    "    print 'Wrong file format'"
   ]
  },
  {
   "cell_type": "code",
   "execution_count": 114,
   "metadata": {
    "collapsed": false
   },
   "outputs": [
    {
     "name": "stdout",
     "output_type": "stream",
     "text": [
      "1988-11-28Bob            Big            102.4\n",
      "\n"
     ]
    }
   ],
   "source": [
    "\n",
    "with open(txt_path) as f:\n",
    "    for line in itertools.islice(f, 2, 4): \n",
    "        print line"
   ]
  },
  {
   "cell_type": "code",
   "execution_count": null,
   "metadata": {
    "collapsed": true
   },
   "outputs": [],
   "source": []
  },
  {
   "cell_type": "code",
   "execution_count": 107,
   "metadata": {
    "collapsed": false
   },
   "outputs": [
    {
     "data": {
      "text/html": [
       "<div>\n",
       "<style>\n",
       "    .dataframe thead tr:only-child th {\n",
       "        text-align: right;\n",
       "    }\n",
       "\n",
       "    .dataframe thead th {\n",
       "        text-align: left;\n",
       "    }\n",
       "\n",
       "    .dataframe tbody tr th {\n",
       "        vertical-align: top;\n",
       "    }\n",
       "</style>\n",
       "<table border=\"1\" class=\"dataframe\">\n",
       "  <thead>\n",
       "    <tr style=\"text-align: right;\">\n",
       "      <th></th>\n",
       "      <th>var_name</th>\n",
       "      <th>length</th>\n",
       "      <th>datatype</th>\n",
       "    </tr>\n",
       "  </thead>\n",
       "  <tbody>\n",
       "    <tr>\n",
       "      <th>0</th>\n",
       "      <td>Birth date</td>\n",
       "      <td>10</td>\n",
       "      <td>date</td>\n",
       "    </tr>\n",
       "    <tr>\n",
       "      <th>1</th>\n",
       "      <td>First name</td>\n",
       "      <td>15</td>\n",
       "      <td>string</td>\n",
       "    </tr>\n",
       "    <tr>\n",
       "      <th>2</th>\n",
       "      <td>Last name</td>\n",
       "      <td>15</td>\n",
       "      <td>string</td>\n",
       "    </tr>\n",
       "    <tr>\n",
       "      <th>3</th>\n",
       "      <td>Weight</td>\n",
       "      <td>5</td>\n",
       "      <td>numeric</td>\n",
       "    </tr>\n",
       "  </tbody>\n",
       "</table>\n",
       "</div>"
      ],
      "text/plain": [
       "     var_name  length datatype\n",
       "0  Birth date      10     date\n",
       "1  First name      15   string\n",
       "2   Last name      15   string\n",
       "3      Weight       5  numeric"
      ]
     },
     "execution_count": 107,
     "metadata": {},
     "output_type": "execute_result"
    }
   ],
   "source": [
    "particles"
   ]
  }
 ],
 "metadata": {
  "kernelspec": {
   "display_name": "Python 2",
   "language": "python",
   "name": "python2"
  },
  "language_info": {
   "codemirror_mode": {
    "name": "ipython",
    "version": 2
   },
   "file_extension": ".py",
   "mimetype": "text/x-python",
   "name": "python",
   "nbconvert_exporter": "python",
   "pygments_lexer": "ipython2",
   "version": "2.7.13"
  }
 },
 "nbformat": 4,
 "nbformat_minor": 2
}
